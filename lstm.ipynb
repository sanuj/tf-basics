{
  "nbformat": 4,
  "nbformat_minor": 0,
  "metadata": {
    "colab": {
      "name": "lstm.ipynb",
      "version": "0.3.2",
      "provenance": [],
      "include_colab_link": true
    },
    "kernelspec": {
      "name": "python3",
      "display_name": "Python 3"
    }
  },
  "cells": [
    {
      "cell_type": "markdown",
      "metadata": {
        "id": "view-in-github",
        "colab_type": "text"
      },
      "source": [
        "<a href=\"https://colab.research.google.com/github/sanuj/tf-basics/blob/master/lstm.ipynb\" target=\"_parent\"><img src=\"https://colab.research.google.com/assets/colab-badge.svg\" alt=\"Open In Colab\"/></a>"
      ]
    },
    {
      "metadata": {
        "id": "sHoc34LU3Ldk",
        "colab_type": "code",
        "colab": {
          "base_uri": "https://localhost:8080/",
          "height": 119
        },
        "outputId": "765ff704-fe46-41fc-d8fb-8e11023d81d4"
      },
      "cell_type": "code",
      "source": [
        "# Load and prepare dataset\n",
        "from keras.datasets import imdb\n",
        "from keras.preprocessing import sequence\n",
        "\n",
        "max_features = 10000\n",
        "maxlen = 500\n",
        "batch_size = 32\n",
        "\n",
        "print('Loading data...')\n",
        "(input_train, y_train), (input_test, y_test) = imdb.load_data(num_words=max_features)\n",
        "\n",
        "print(len(input_train), 'train sequences')\n",
        "print(len(input_test), 'test sequences')\n",
        "\n",
        "print('Pad sequences (samples x time)')\n",
        "input_train = sequence.pad_sequences(input_train, maxlen=maxlen)\n",
        "input_test = sequence.pad_sequences(input_test, maxlen=maxlen)\n",
        "\n",
        "print('input_train shape:', input_train.shape)\n",
        "print('input_test shape:', input_test.shape)"
      ],
      "execution_count": 4,
      "outputs": [
        {
          "output_type": "stream",
          "text": [
            "Loading data...\n",
            "25000 train sequences\n",
            "25000 test sequences\n",
            "Pad sequences (samples x time)\n",
            "input_train shape: (25000, 500)\n",
            "input_test shape: (25000, 500)\n"
          ],
          "name": "stdout"
        }
      ]
    },
    {
      "metadata": {
        "id": "1Bwe3hV330he",
        "colab_type": "code",
        "colab": {
          "base_uri": "https://localhost:8080/",
          "height": 408
        },
        "outputId": "545af4ca-bfab-45b1-920e-3a870a846b42"
      },
      "cell_type": "code",
      "source": [
        "# building model\n",
        "from keras import models\n",
        "from keras import layers\n",
        "\n",
        "model = models.Sequential()\n",
        "model.add(layers.Embedding(max_features, 32))\n",
        "model.add(layers.LSTM(32))\n",
        "model.add(layers.Dense(1, activation='sigmoid'))\n",
        "\n",
        "model.compile(optimizer='rmsprop', loss='binary_crossentropy', metrics=['acc'])\n",
        "\n",
        "history = model.fit(input_train, y_train, epochs=10, batch_size=128, validation_split=0.2)\n",
        "\n",
        "# Evaluate on test data\n",
        "results = model.evaluate(input_test, y_test)\n",
        "print(results)"
      ],
      "execution_count": 5,
      "outputs": [
        {
          "output_type": "stream",
          "text": [
            "Train on 20000 samples, validate on 5000 samples\n",
            "Epoch 1/10\n",
            "20000/20000 [==============================] - 68s 3ms/step - loss: 0.4982 - acc: 0.7682 - val_loss: 0.3998 - val_acc: 0.8286\n",
            "Epoch 2/10\n",
            "20000/20000 [==============================] - 66s 3ms/step - loss: 0.2974 - acc: 0.8834 - val_loss: 0.3124 - val_acc: 0.8654\n",
            "Epoch 3/10\n",
            "20000/20000 [==============================] - 67s 3ms/step - loss: 0.2395 - acc: 0.9093 - val_loss: 0.2839 - val_acc: 0.8804\n",
            "Epoch 4/10\n",
            "20000/20000 [==============================] - 66s 3ms/step - loss: 0.2016 - acc: 0.9240 - val_loss: 0.3131 - val_acc: 0.8744\n",
            "Epoch 5/10\n",
            "20000/20000 [==============================] - 66s 3ms/step - loss: 0.1739 - acc: 0.9358 - val_loss: 0.3244 - val_acc: 0.8872\n",
            "Epoch 6/10\n",
            "20000/20000 [==============================] - 66s 3ms/step - loss: 0.1617 - acc: 0.9425 - val_loss: 0.3641 - val_acc: 0.8372\n",
            "Epoch 7/10\n",
            "20000/20000 [==============================] - 66s 3ms/step - loss: 0.1411 - acc: 0.9519 - val_loss: 0.3163 - val_acc: 0.8696\n",
            "Epoch 8/10\n",
            "20000/20000 [==============================] - 64s 3ms/step - loss: 0.1312 - acc: 0.9551 - val_loss: 0.4154 - val_acc: 0.8720\n",
            "Epoch 9/10\n",
            "20000/20000 [==============================] - 63s 3ms/step - loss: 0.1261 - acc: 0.9545 - val_loss: 0.3413 - val_acc: 0.8786\n",
            "Epoch 10/10\n",
            "20000/20000 [==============================] - 65s 3ms/step - loss: 0.1090 - acc: 0.9624 - val_loss: 0.4274 - val_acc: 0.8798\n",
            "25000/25000 [==============================] - 26s 1ms/step\n",
            "[0.5036789926373959, 0.85756]\n"
          ],
          "name": "stdout"
        }
      ]
    },
    {
      "metadata": {
        "id": "Eel6bnfB4skA",
        "colab_type": "code",
        "colab": {}
      },
      "cell_type": "code",
      "source": [
        ""
      ],
      "execution_count": 0,
      "outputs": []
    }
  ]
}