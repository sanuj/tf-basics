{
  "nbformat": 4,
  "nbformat_minor": 0,
  "metadata": {
    "colab": {
      "name": "imdb.ipynb",
      "version": "0.3.2",
      "provenance": [],
      "include_colab_link": true
    },
    "kernelspec": {
      "name": "python3",
      "display_name": "Python 3"
    }
  },
  "cells": [
    {
      "cell_type": "markdown",
      "metadata": {
        "id": "view-in-github",
        "colab_type": "text"
      },
      "source": [
        "<a href=\"https://colab.research.google.com/github/sanuj/tf-basics/blob/master/imdb.ipynb\" target=\"_parent\"><img src=\"https://colab.research.google.com/assets/colab-badge.svg\" alt=\"Open In Colab\"/></a>"
      ]
    },
    {
      "metadata": {
        "id": "rJ808XkSnFcb",
        "colab_type": "code",
        "colab": {
          "base_uri": "https://localhost:8080/",
          "height": 836
        },
        "outputId": "ee01e350-d279-4be4-d13d-a4fdbd22ffbe"
      },
      "cell_type": "code",
      "source": [
        "# load dataset\n",
        "VOCAB_SIZE = 10000\n",
        "\n",
        "from keras.datasets import imdb\n",
        "(train_data, train_labels), (test_data, test_labels) = imdb.load_data(num_words=VOCAB_SIZE)\n",
        "\n",
        "# one-hot encodeing\n",
        "import numpy as np\n",
        "\n",
        "def seq2vec(seqs, dim=VOCAB_SIZE):\n",
        "  res = np.zeros((len(seqs), dim))\n",
        "  for i, s in enumerate(seqs):\n",
        "    res[i, s] = 1\n",
        "  return res\n",
        "\n",
        "x_train = seq2vec(train_data)\n",
        "x_test = seq2vec(test_data)\n",
        "y_train = np.asarray(train_labels).astype('float32')\n",
        "y_test = np.asarray(test_labels).astype('float32')\n",
        "\n",
        "x_val = x_train[:10000]\n",
        "partial_x_train = x_train[10000:]\n",
        "y_val = y_train[:10000]\n",
        "partial_y_train = y_train[10000:]\n",
        "\n",
        "# building model\n",
        "from keras import models\n",
        "from keras import layers\n",
        "\n",
        "model = models.Sequential()\n",
        "model.add(layers.Dense(16, activation='relu', input_shape=(VOCAB_SIZE,)))\n",
        "model.add(layers.Dense(16, activation='relu'))\n",
        "model.add(layers.Dense(1, activation='sigmoid'))\n",
        "\n",
        "# compile model\n",
        "model.compile(optimizer='rmsprop', loss='binary_crossentropy', metrics=['accuracy'])\n",
        "\n",
        "history = model.fit(partial_x_train, partial_y_train, epochs=20,\n",
        "                    batch_size=512, validation_data=(x_val, y_val))\n",
        "\n",
        "print(history)\n",
        "\n",
        "results = model.evaluate(x_test, y_test)\n",
        "\n",
        "print(results)"
      ],
      "execution_count": 6,
      "outputs": [
        {
          "output_type": "stream",
          "text": [
            "WARNING:tensorflow:From /usr/local/lib/python3.6/dist-packages/tensorflow/python/ops/math_ops.py:3066: to_int32 (from tensorflow.python.ops.math_ops) is deprecated and will be removed in a future version.\n",
            "Instructions for updating:\n",
            "Use tf.cast instead.\n",
            "Train on 15000 samples, validate on 10000 samples\n",
            "Epoch 1/20\n",
            "15000/15000 [==============================] - 4s 245us/step - loss: 0.5087 - acc: 0.7813 - val_loss: 0.3794 - val_acc: 0.8690\n",
            "Epoch 2/20\n",
            "15000/15000 [==============================] - 3s 196us/step - loss: 0.3006 - acc: 0.9050 - val_loss: 0.3005 - val_acc: 0.8901\n",
            "Epoch 3/20\n",
            "15000/15000 [==============================] - 3s 195us/step - loss: 0.2180 - acc: 0.9282 - val_loss: 0.3088 - val_acc: 0.8709\n",
            "Epoch 4/20\n",
            "15000/15000 [==============================] - 3s 194us/step - loss: 0.1751 - acc: 0.9435 - val_loss: 0.2840 - val_acc: 0.8840\n",
            "Epoch 5/20\n",
            "15000/15000 [==============================] - 3s 195us/step - loss: 0.1426 - acc: 0.9541 - val_loss: 0.2842 - val_acc: 0.8868\n",
            "Epoch 6/20\n",
            "15000/15000 [==============================] - 3s 195us/step - loss: 0.1150 - acc: 0.9651 - val_loss: 0.3163 - val_acc: 0.8776\n",
            "Epoch 7/20\n",
            "15000/15000 [==============================] - 3s 195us/step - loss: 0.0981 - acc: 0.9707 - val_loss: 0.3126 - val_acc: 0.8845\n",
            "Epoch 8/20\n",
            "15000/15000 [==============================] - 3s 198us/step - loss: 0.0808 - acc: 0.9763 - val_loss: 0.3858 - val_acc: 0.8649\n",
            "Epoch 9/20\n",
            "15000/15000 [==============================] - 3s 207us/step - loss: 0.0661 - acc: 0.9821 - val_loss: 0.3633 - val_acc: 0.8781\n",
            "Epoch 10/20\n",
            "15000/15000 [==============================] - 3s 201us/step - loss: 0.0561 - acc: 0.9852 - val_loss: 0.3840 - val_acc: 0.8780\n",
            "Epoch 11/20\n",
            "15000/15000 [==============================] - 3s 194us/step - loss: 0.0443 - acc: 0.9889 - val_loss: 0.4149 - val_acc: 0.8773\n",
            "Epoch 12/20\n",
            "15000/15000 [==============================] - 3s 195us/step - loss: 0.0383 - acc: 0.9918 - val_loss: 0.4517 - val_acc: 0.8690\n",
            "Epoch 13/20\n",
            "15000/15000 [==============================] - 3s 198us/step - loss: 0.0300 - acc: 0.9928 - val_loss: 0.4697 - val_acc: 0.8726\n",
            "Epoch 14/20\n",
            "15000/15000 [==============================] - 3s 196us/step - loss: 0.0249 - acc: 0.9945 - val_loss: 0.5037 - val_acc: 0.8719\n",
            "Epoch 15/20\n",
            "15000/15000 [==============================] - 3s 196us/step - loss: 0.0190 - acc: 0.9968 - val_loss: 0.5315 - val_acc: 0.8705\n",
            "Epoch 16/20\n",
            "15000/15000 [==============================] - 3s 196us/step - loss: 0.0170 - acc: 0.9967 - val_loss: 0.5645 - val_acc: 0.8695\n",
            "Epoch 17/20\n",
            "15000/15000 [==============================] - 3s 196us/step - loss: 0.0121 - acc: 0.9983 - val_loss: 0.5970 - val_acc: 0.8666\n",
            "Epoch 18/20\n",
            "15000/15000 [==============================] - 3s 196us/step - loss: 0.0116 - acc: 0.9976 - val_loss: 0.6284 - val_acc: 0.8664\n",
            "Epoch 19/20\n",
            "15000/15000 [==============================] - 3s 195us/step - loss: 0.0064 - acc: 0.9995 - val_loss: 0.7528 - val_acc: 0.8510\n",
            "Epoch 20/20\n",
            "15000/15000 [==============================] - 3s 196us/step - loss: 0.0060 - acc: 0.9997 - val_loss: 0.6934 - val_acc: 0.8657\n",
            "<keras.callbacks.History object at 0x7fce771a5390>\n",
            "25000/25000 [==============================] - 2s 85us/step\n",
            "[0.7720194225716591, 0.84888]\n"
          ],
          "name": "stdout"
        }
      ]
    }
  ]
}